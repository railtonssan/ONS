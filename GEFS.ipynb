{
 "cells": [
  {
   "cell_type": "markdown",
   "metadata": {},
   "source": [
    "### Baixando imagens GEFS no site do ONS\n",
    "##O obejtivo desse script é automatizar o processo de baixar imagens do site do ONS.\n"
   ]
  },
  {
   "cell_type": "code",
   "execution_count": 6,
   "metadata": {},
   "outputs": [],
   "source": [
    "#Imports\n",
    "from selenium import webdriver\n",
    "from selenium.webdriver.common.keys import Keys\n",
    "from selenium.common.exceptions import TimeoutException\n",
    "from selenium.common.exceptions import NoSuchElementException\n",
    "from selenium.webdriver.support.ui import WebDriverWait\n",
    "from selenium.webdriver.support import expected_conditions as EC\n",
    "from selenium.webdriver.common.by import By\n",
    "import requests\n",
    "import datetime\n",
    "import os\n",
    "import time\n",
    "import shutil\n",
    "import os.path"
   ]
  },
  {
   "cell_type": "code",
   "execution_count": 7,
   "metadata": {},
   "outputs": [],
   "source": [
    "#O objetivo dessa parte é organizar o salvamento de imagens \n",
    "\n",
    "#Essa parte verifica se já existe um diretório com o nome do dia em questao (pois as imagens serão salvas em uma pasta com esse nome)\n",
    "hoje= datetime.date.today()\n",
    "path = ('/Users/railtonsabtos/Desktop/ONS/GEFS/{}'.format(str(hoje)))\n",
    "\n",
    "#Caso a pasta já exista, ela será deletada \n",
    "isdir = os.path.isdir(path)  \n",
    "if isdir == True:\n",
    "   shutil.rmtree(path)\n",
    "\n",
    "#Caso não exista, esse diretório com o nome do dia será criado para salvar as imagens   \n",
    "os.mkdir('GEFS/{}'.format(str(hoje)))"
   ]
  },
  {
   "cell_type": "code",
   "execution_count": 8,
   "metadata": {},
   "outputs": [
    {
     "name": "stdout",
     "output_type": "stream",
     "text": [
      "A imagem 1o foi salva com sucesso!\n",
      "A imagem 2o foi salva com sucesso!\n",
      "A imagem 3o foi salva com sucesso!\n",
      "A imagem 4o foi salva com sucesso!\n",
      "A imagem 5o NAO foi salva com sucesso!\n",
      "A imagem 5o NAO foi salva com sucesso!\n",
      "A imagem 5o foi salva com sucesso!\n",
      "A imagem 6o foi salva com sucesso!\n",
      "A imagem 7o foi salva com sucesso!\n",
      "A imagem 8o NAO foi salva com sucesso!\n",
      "A imagem 8o NAO foi salva com sucesso!\n",
      "A imagem 8o NAO foi salva com sucesso!\n",
      "A imagem 8o foi salva com sucesso!\n",
      "A imagem 9o foi salva com sucesso!\n",
      "A imagem 10o foi salva com sucesso!\n"
     ]
    }
   ],
   "source": [
    "#Chamando o programa\n",
    "#Indo de 1 a 11, ou seja 10 interações\n",
    "\n",
    "i = 0\n",
    "for i in range(1,11):\n",
    "    navegation(i) "
   ]
  },
  {
   "cell_type": "code",
   "execution_count": 5,
   "metadata": {},
   "outputs": [],
   "source": [
    "# O real programa\n",
    "\n",
    "def navegation(i):\n",
    "    \n",
    "    #Usando o Webdriver do Chrome\n",
    "    options = webdriver.ChromeOptions()\n",
    "    #No modo oculto\n",
    "    options.add_argument(\"--headless\")\n",
    "    options.add_argument(\"--disable-gpu\") \n",
    "    navegador = webdriver.Chrome(options=options)\n",
    "    #O Robo irá navegar até o endereço indicado, onde a url varia a cada interação \n",
    "    url = 'https://sintegre.ons.org.br/sites/9/38/Documents/images/operacao_integrada/meteorologia/global/glob50_{}.gif'.format(i)\n",
    "    navegador.get(url)\n",
    "    \n",
    "    #O Site SinIntegra do ONS necessita de login e senha\n",
    "    login = 'Usuario'\n",
    "    senha = 'Senha'\n",
    "    \n",
    "    #será colocado o login e a senha nos espacos indicados e será apertado Enter\n",
    "    navegador.find_element_by_id('username').send_keys(login)\n",
    "    navegador.find_element_by_id('username').send_keys(Keys.ENTER)\n",
    "    time.sleep(2)\n",
    "    \n",
    "    navegador.find_element_by_id('password').send_keys(senha)\n",
    "    navegador.find_element_by_id('password').send_keys(Keys.ENTER)\n",
    "    \n",
    "    #tempo de espera para pagina carregar.\n",
    "    timeout = 10    \n",
    "    time.sleep(3)\n",
    "               \n",
    "    try:\n",
    "        element_present = EC.presence_of_element_located((By.XPATH , '/html/body/img'))\n",
    "        WebDriverWait(navegador, timeout).until(element_present)\n",
    "        img = navegador.find_element_by_xpath('/html/body/img')\n",
    "        url = img.get_attribute('src')\n",
    "   \n",
    "        # Recupera os cookies da sessÃ£o do chrome pelo driver do selenium\n",
    "        all_cookies = navegador.get_cookies()\n",
    "        # Cria um mapa para aramzenar todos os cookies (chave:valor)\n",
    "        cookies = {}\n",
    "        # Popula o mapa com os cookies\n",
    "        for s_cookie in all_cookies:\n",
    "            cookies[s_cookie[\"name\"]]=s_cookie[\"value\"]\n",
    "   \n",
    "        #utiliza a biblioteca requests passando a url da imagem e os cookies de autenticaÃ§Ã£o\n",
    "        response = requests.get(url, cookies=cookies)\n",
    "        hoje= datetime.date.today()\n",
    "        file_name = \"GEFS/{}/GEFS_{}_{}.png\".format(str(hoje),i, hoje)\n",
    "        if response.status_code == 200:\n",
    "                # Se a requst ocorreu bem, salvar o binario\n",
    "\n",
    "            with open(file_name, 'wb') as f:\n",
    "                f.write(response.content)\n",
    "        #Indicação que a imagem foi salva com sucesso        \n",
    "        print(\"A imagem {}o foi salva com sucesso!\".format(i))\n",
    "        i = i+1\n",
    "         \n",
    "        navegador.quit()\n",
    "        \n",
    "        #no caso de erro (de DDoS ou de tempo de carregamento) será usado a excessao de TimeoutException\n",
    "    except TimeoutException:\n",
    "        \n",
    "        #Indicaçao que a imagem nao foi salva\n",
    "        print(\"A imagem {}o NAO foi salva com sucesso!\".format(i))\n",
    "        #A propria função será chamada novamente em uma tentativa de tentar até conseguir hehe (Solução recusiva)\n",
    "        navegation(i)\n",
    "        navegador.quit()"
   ]
  }
 ],
 "metadata": {
  "kernelspec": {
   "display_name": "Python 3",
   "language": "python",
   "name": "python3"
  },
  "language_info": {
   "codemirror_mode": {
    "name": "ipython",
    "version": 3
   },
   "file_extension": ".py",
   "mimetype": "text/x-python",
   "name": "python",
   "nbconvert_exporter": "python",
   "pygments_lexer": "ipython3",
   "version": "3.7.3"
  }
 },
 "nbformat": 4,
 "nbformat_minor": 2
}
